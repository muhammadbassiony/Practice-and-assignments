{
 "cells": [
  {
   "cell_type": "code",
   "execution_count": 1,
   "metadata": {},
   "outputs": [
    {
     "name": "stderr",
     "output_type": "stream",
     "text": [
      "Using TensorFlow backend.\n"
     ]
    }
   ],
   "source": [
    "import numpy as np\n",
    "import matplotlib.pyplot as plt\n",
    "import pandas as pd\n",
    "import h5py\n",
    "import scipy\n",
    "from PIL import Image\n",
    "from scipy import ndimage\n",
    "from lr_utils import load_dataset\n",
    "import tensorflow as tf\n",
    "import keras\n",
    "\n",
    "from keras.models import Sequential\n",
    "from keras.layers import Dense, Activation, Dropout, Convolution2D, Flatten, MaxPooling2D, Reshape, InputLayer\n",
    "from keras.utils import to_categorical\n",
    "from keras.layers import Conv2D, MaxPooling2D\n",
    "\n",
    "%matplotlib inline"
   ]
  },
  {
   "cell_type": "code",
   "execution_count": 2,
   "metadata": {},
   "outputs": [],
   "source": [
    "train_set = pd.read_csv(\"E:/markov ml/fashionmnist/fashion-mnist_train.csv\")\n",
    "test_set = pd.read_csv(\"E:/markov ml/fashionmnist/fashion-mnist_test.csv\")"
   ]
  },
  {
   "cell_type": "code",
   "execution_count": 3,
   "metadata": {},
   "outputs": [
    {
     "name": "stdout",
     "output_type": "stream",
     "text": [
      "(48000, 784) (48000, 10) (12000, 784) (12000, 10)\n"
     ]
    }
   ],
   "source": [
    "from sklearn.model_selection import train_test_split\n",
    "\n",
    "X = np.array(train_set.iloc[:, 1:])\n",
    "y = to_categorical(np.array(train_set.iloc[:, 0]))\n",
    "\n",
    "x_train, x_val, y_train, y_val = train_test_split(X, y, test_size = 0.2, random_state = 1)\n",
    "\n",
    "print( x_train.shape,  y_train.shape, x_val.shape, y_val.shape)"
   ]
  },
  {
   "cell_type": "code",
   "execution_count": 4,
   "metadata": {},
   "outputs": [
    {
     "name": "stdout",
     "output_type": "stream",
     "text": [
      "(10000, 784) (10000, 10)\n"
     ]
    }
   ],
   "source": [
    "x_test = np.array(test_set.iloc[:, 1:])\n",
    "y_test = to_categorical(np.array(test_set.iloc[:, 0]))\n",
    "\n",
    "print(x_test.shape, y_test.shape)"
   ]
  },
  {
   "cell_type": "code",
   "execution_count": 5,
   "metadata": {},
   "outputs": [
    {
     "name": "stdout",
     "output_type": "stream",
     "text": [
      "[0. 0. 0. 0. 0. 0. 1. 0. 0. 0.]\n"
     ]
    },
    {
     "data": {
      "image/png": "[encoded data removed]",
      "text/plain": [
       "<Figure size 432x288 with 1 Axes>"
      ]
     },
     "metadata": {
      "needs_background": "light"
     },
     "output_type": "display_data"
    }
   ],
   "source": [
    "plt.imshow(x_test[7].reshape(28,28), cmap='gray', interpolation='none')\n",
    "print(y_test[7])"
   ]
  },
  {
   "cell_type": "code",
   "execution_count": 6,
   "metadata": {},
   "outputs": [
    {
     "name": "stdout",
     "output_type": "stream",
     "text": [
      "[1. 0. 0. 0. 0. 0. 0. 0. 0. 0.]\n"
     ]
    },
    {
     "data": {
      "image/png": "[encoded data removed]",
      "text/plain": [
       "<Figure size 432x288 with 1 Axes>"
      ]
     },
     "metadata": {
      "needs_background": "light"
     },
     "output_type": "display_data"
    }
   ],
   "source": [
    "plt.imshow(x_test[3096].reshape(28,28), cmap='viridis', interpolation='none')\n",
    "print(y_test[3096])"
   ]
  },
  {
   "cell_type": "code",
   "execution_count": 7,
   "metadata": {},
   "outputs": [],
   "source": [
    "input_num_units = 784\n",
    "hidden_num_units = 50\n",
    "output_num_units = 10\n",
    "\n",
    "\n",
    "batch_size = 256"
   ]
  },
  {
   "cell_type": "code",
   "execution_count": 8,
   "metadata": {},
   "outputs": [],
   "source": [
    "x_train = x_train.astype('float32')\n",
    "x_test = x_test.astype('float32')\n",
    "x_val = x_val.astype('float32')\n",
    "\n",
    "x_val /= 255.0\n",
    "x_train /= 255.0\n",
    "x_test /= 255.0"
   ]
  },
  {
   "cell_type": "code",
   "execution_count": 9,
   "metadata": {},
   "outputs": [
    {
     "name": "stdout",
     "output_type": "stream",
     "text": [
      "WARNING:tensorflow:From C:\\Users\\LENOVO\\Anaconda3\\lib\\site-packages\\tensorflow\\python\\framework\\op_def_library.py:263: colocate_with (from tensorflow.python.framework.ops) is deprecated and will be removed in a future version.\n",
      "Instructions for updating:\n",
      "Colocations handled automatically by placer.\n",
      "WARNING:tensorflow:From C:\\Users\\LENOVO\\Anaconda3\\lib\\site-packages\\keras\\backend\\tensorflow_backend.py:3445: calling dropout (from tensorflow.python.ops.nn_ops) with keep_prob is deprecated and will be removed in a future version.\n",
      "Instructions for updating:\n",
      "Please use `rate` instead of `keep_prob`. Rate should be set to `rate = 1 - keep_prob`.\n"
     ]
    },
    {
     "name": "stderr",
     "output_type": "stream",
     "text": [
      "C:\\Users\\LENOVO\\Anaconda3\\lib\\site-packages\\ipykernel_launcher.py:5: UserWarning: Update your `Dense` call to the Keras 2 API: `Dense(input_dim=784, activation=\"relu\", units=500)`\n",
      "  \"\"\"\n",
      "C:\\Users\\LENOVO\\Anaconda3\\lib\\site-packages\\ipykernel_launcher.py:7: UserWarning: Update your `Dense` call to the Keras 2 API: `Dense(input_dim=500, activation=\"relu\", units=500)`\n",
      "  import sys\n",
      "C:\\Users\\LENOVO\\Anaconda3\\lib\\site-packages\\ipykernel_launcher.py:9: UserWarning: Update your `Dense` call to the Keras 2 API: `Dense(input_dim=500, activation=\"relu\", units=500)`\n",
      "  if __name__ == '__main__':\n",
      "C:\\Users\\LENOVO\\Anaconda3\\lib\\site-packages\\ipykernel_launcher.py:11: UserWarning: Update your `Dense` call to the Keras 2 API: `Dense(input_dim=500, activation=\"relu\", units=500)`\n",
      "  # This is added back by InteractiveShellApp.init_path()\n",
      "C:\\Users\\LENOVO\\Anaconda3\\lib\\site-packages\\ipykernel_launcher.py:13: UserWarning: Update your `Dense` call to the Keras 2 API: `Dense(input_dim=500, activation=\"relu\", units=500)`\n",
      "  del sys.path[0]\n",
      "C:\\Users\\LENOVO\\Anaconda3\\lib\\site-packages\\ipykernel_launcher.py:15: UserWarning: Update your `Dense` call to the Keras 2 API: `Dense(input_dim=500, activation=\"relu\", units=500)`\n",
      "  from ipykernel import kernelapp as app\n",
      "C:\\Users\\LENOVO\\Anaconda3\\lib\\site-packages\\ipykernel_launcher.py:17: UserWarning: Update your `Dense` call to the Keras 2 API: `Dense(input_dim=500, activation=\"relu\", units=500)`\n",
      "C:\\Users\\LENOVO\\Anaconda3\\lib\\site-packages\\ipykernel_launcher.py:19: UserWarning: Update your `Dense` call to the Keras 2 API: `Dense(input_dim=500, activation=\"relu\", units=500)`\n",
      "C:\\Users\\LENOVO\\Anaconda3\\lib\\site-packages\\ipykernel_launcher.py:21: UserWarning: Update your `Dense` call to the Keras 2 API: `Dense(input_dim=500, activation=\"relu\", units=250)`\n"
     ]
    },
    {
     "name": "stdout",
     "output_type": "stream",
     "text": [
      "WARNING:tensorflow:From C:\\Users\\LENOVO\\Anaconda3\\lib\\site-packages\\tensorflow\\python\\ops\\math_ops.py:3066: to_int32 (from tensorflow.python.ops.math_ops) is deprecated and will be removed in a future version.\n",
      "Instructions for updating:\n",
      "Use tf.cast instead.\n"
     ]
    },
    {
     "name": "stderr",
     "output_type": "stream",
     "text": [
      "C:\\Users\\LENOVO\\Anaconda3\\lib\\site-packages\\ipykernel_launcher.py:23: UserWarning: Update your `Dense` call to the Keras 2 API: `Dense(input_dim=250, activation=\"relu\", units=250)`\n",
      "C:\\Users\\LENOVO\\Anaconda3\\lib\\site-packages\\ipykernel_launcher.py:25: UserWarning: Update your `Dense` call to the Keras 2 API: `Dense(input_dim=250, activation=\"relu\", units=250)`\n",
      "C:\\Users\\LENOVO\\Anaconda3\\lib\\site-packages\\ipykernel_launcher.py:27: UserWarning: Update your `Dense` call to the Keras 2 API: `Dense(input_dim=250, activation=\"relu\", units=100)`\n",
      "C:\\Users\\LENOVO\\Anaconda3\\lib\\site-packages\\ipykernel_launcher.py:30: UserWarning: Update your `Dense` call to the Keras 2 API: `Dense(input_dim=100, activation=\"softmax\", units=10)`\n"
     ]
    },
    {
     "name": "stdout",
     "output_type": "stream",
     "text": [
      "Train on 48000 samples, validate on 12000 samples\n",
      "Epoch 1/25\n",
      "48000/48000 [==============================] - 16s 324us/step - loss: 1.3599 - acc: 0.4274 - val_loss: 0.6966 - val_acc: 0.6963\n",
      "Epoch 2/25\n",
      "48000/48000 [==============================] - 14s 301us/step - loss: 0.6975 - acc: 0.7144 - val_loss: 0.6054 - val_acc: 0.7369\n",
      "Epoch 3/25\n",
      "48000/48000 [==============================] - 14s 296us/step - loss: 0.6292 - acc: 0.7397 - val_loss: 0.5692 - val_acc: 0.7681\n",
      "Epoch 4/25\n",
      "48000/48000 [==============================] - 15s 317us/step - loss: 0.5776 - acc: 0.7652 - val_loss: 0.5287 - val_acc: 0.7957\n",
      "Epoch 5/25\n",
      "48000/48000 [==============================] - 15s 306us/step - loss: 0.5387 - acc: 0.7966 - val_loss: 0.4560 - val_acc: 0.8341\n",
      "Epoch 6/25\n",
      "48000/48000 [==============================] - 15s 311us/step - loss: 0.5012 - acc: 0.8241 - val_loss: 0.4443 - val_acc: 0.8335\n",
      "Epoch 7/25\n",
      "48000/48000 [==============================] - 15s 320us/step - loss: 0.4826 - acc: 0.8330 - val_loss: 0.4491 - val_acc: 0.8436\n",
      "Epoch 8/25\n",
      "48000/48000 [==============================] - 15s 308us/step - loss: 0.4652 - acc: 0.8410 - val_loss: 0.4272 - val_acc: 0.8520\n",
      "Epoch 9/25\n",
      "48000/48000 [==============================] - 16s 335us/step - loss: 0.4637 - acc: 0.8430 - val_loss: 0.4158 - val_acc: 0.8490\n",
      "Epoch 10/25\n",
      "48000/48000 [==============================] - 16s 325us/step - loss: 0.4382 - acc: 0.8486 - val_loss: 0.4056 - val_acc: 0.8604\n",
      "Epoch 11/25\n",
      "48000/48000 [==============================] - 15s 316us/step - loss: 0.4242 - acc: 0.8553 - val_loss: 0.3980 - val_acc: 0.8575\n",
      "Epoch 12/25\n",
      "48000/48000 [==============================] - 15s 321us/step - loss: 0.4143 - acc: 0.8581 - val_loss: 0.3985 - val_acc: 0.8569\n",
      "Epoch 13/25\n",
      "48000/48000 [==============================] - 16s 330us/step - loss: 0.4056 - acc: 0.8604 - val_loss: 0.3880 - val_acc: 0.8653\n",
      "Epoch 14/25\n",
      "48000/48000 [==============================] - 15s 317us/step - loss: 0.4028 - acc: 0.8609 - val_loss: 0.3842 - val_acc: 0.8676\n",
      "Epoch 15/25\n",
      "48000/48000 [==============================] - 16s 325us/step - loss: 0.3892 - acc: 0.8658 - val_loss: 0.3768 - val_acc: 0.8689\n",
      "Epoch 16/25\n",
      "48000/48000 [==============================] - 15s 318us/step - loss: 0.3915 - acc: 0.8657 - val_loss: 0.3845 - val_acc: 0.8717\n",
      "Epoch 17/25\n",
      "48000/48000 [==============================] - 16s 327us/step - loss: 0.3805 - acc: 0.8703 - val_loss: 0.3748 - val_acc: 0.8643\n",
      "Epoch 18/25\n",
      "48000/48000 [==============================] - 15s 312us/step - loss: 0.3763 - acc: 0.8707 - val_loss: 0.3625 - val_acc: 0.8758\n",
      "Epoch 19/25\n",
      "48000/48000 [==============================] - 17s 344us/step - loss: 0.3782 - acc: 0.8696 - val_loss: 0.3658 - val_acc: 0.8735\n",
      "Epoch 20/25\n",
      "48000/48000 [==============================] - 15s 314us/step - loss: 0.3767 - acc: 0.8709 - val_loss: 0.3606 - val_acc: 0.8732\n",
      "Epoch 21/25\n",
      "48000/48000 [==============================] - 16s 327us/step - loss: 0.3701 - acc: 0.8723 - val_loss: 0.3779 - val_acc: 0.8734\n",
      "Epoch 22/25\n",
      "48000/48000 [==============================] - 16s 328us/step - loss: 0.3728 - acc: 0.8704 - val_loss: 0.3631 - val_acc: 0.8719\n",
      "Epoch 23/25\n",
      "48000/48000 [==============================] - 15s 312us/step - loss: 0.3706 - acc: 0.8730 - val_loss: 0.3854 - val_acc: 0.8747\n",
      "Epoch 24/25\n",
      "48000/48000 [==============================] - 15s 318us/step - loss: 0.3586 - acc: 0.8762 - val_loss: 0.3549 - val_acc: 0.8808\n",
      "Epoch 25/25\n",
      "48000/48000 [==============================] - 15s 320us/step - loss: 0.3575 - acc: 0.8762 - val_loss: 0.3646 - val_acc: 0.8813\n"
     ]
    },
    {
     "data": {
      "text/plain": [
       "<keras.callbacks.History at 0x1bfc21ada20>"
      ]
     },
     "execution_count": 9,
     "metadata": {},
     "output_type": "execute_result"
    }
   ],
   "source": [
    "#Deep learning model\n",
    "\n",
    "model = Sequential()\n",
    "\n",
    "model.add(Dense(input_dim = 784, output_dim = 500, activation='relu'))\n",
    "model.add(Dropout(0.25))\n",
    "model.add(Dense(input_dim = 500, output_dim = 500, activation='relu'))\n",
    "model.add(Dropout(0.25))\n",
    "model.add(Dense(input_dim = 500, output_dim = 500, activation='relu'))\n",
    "model.add(Dropout(0.25))\n",
    "model.add(Dense(input_dim = 500, output_dim = 500, activation='relu'))\n",
    "model.add(Dropout(0.25))\n",
    "model.add(Dense(input_dim = 500, output_dim = 500, activation='relu'))\n",
    "model.add(Dropout(0.25))\n",
    "model.add(Dense(input_dim = 500, output_dim = 500, activation='relu'))\n",
    "model.add(Dropout(0.25))\n",
    "model.add(Dense(input_dim = 500, output_dim = 500, activation='relu'))\n",
    "model.add(Dropout(0.25))\n",
    "model.add(Dense(input_dim = 500, output_dim = 500, activation='relu'))\n",
    "model.add(Dropout(0.25))\n",
    "model.add(Dense(input_dim = 500, output_dim = 250, activation='relu'))\n",
    "model.add(Dropout(0.25))\n",
    "model.add(Dense(input_dim = 250 , output_dim = 250, activation='relu'))\n",
    "model.add(Dropout(0.25))\n",
    "model.add(Dense(input_dim = 250, output_dim = 250, activation='relu'))\n",
    "model.add(Dropout(0.25))\n",
    "model.add(Dense(input_dim = 250, output_dim = 100, activation='relu'))\n",
    "model.add(Dropout(0.25))\n",
    "\n",
    "model.add(Dense(input_dim = 100, output_dim = 10, activation='softmax'))\n",
    "\n",
    "\n",
    "model.compile(loss=keras.losses.categorical_crossentropy, optimizer=keras.optimizers.Adam(), metrics=['accuracy'])\n",
    "\n",
    "model.fit(x_train, y_train, epochs = 25, batch_size = 256, validation_data=(x_val, y_val))"
   ]
  },
  {
   "cell_type": "code",
   "execution_count": 10,
   "metadata": {},
   "outputs": [
    {
     "name": "stdout",
     "output_type": "stream",
     "text": [
      "_________________________________________________________________\n",
      "Layer (type)                 Output Shape              Param #   \n",
      "=================================================================\n",
      "dense_1 (Dense)              (None, 500)               392500    \n",
      "_________________________________________________________________\n",
      "dropout_1 (Dropout)          (None, 500)               0         \n",
      "_________________________________________________________________\n",
      "dense_2 (Dense)              (None, 500)               250500    \n",
      "_________________________________________________________________\n",
      "dropout_2 (Dropout)          (None, 500)               0         \n",
      "_________________________________________________________________\n",
      "dense_3 (Dense)              (None, 500)               250500    \n",
      "_________________________________________________________________\n",
      "dropout_3 (Dropout)          (None, 500)               0         \n",
      "_________________________________________________________________\n",
      "dense_4 (Dense)              (None, 500)               250500    \n",
      "_________________________________________________________________\n",
      "dropout_4 (Dropout)          (None, 500)               0         \n",
      "_________________________________________________________________\n",
      "dense_5 (Dense)              (None, 500)               250500    \n",
      "_________________________________________________________________\n",
      "dropout_5 (Dropout)          (None, 500)               0         \n",
      "_________________________________________________________________\n",
      "dense_6 (Dense)              (None, 500)               250500    \n",
      "_________________________________________________________________\n",
      "dropout_6 (Dropout)          (None, 500)               0         \n",
      "_________________________________________________________________\n",
      "dense_7 (Dense)              (None, 500)               250500    \n",
      "_________________________________________________________________\n",
      "dropout_7 (Dropout)          (None, 500)               0         \n",
      "_________________________________________________________________\n",
      "dense_8 (Dense)              (None, 500)               250500    \n",
      "_________________________________________________________________\n",
      "dropout_8 (Dropout)          (None, 500)               0         \n",
      "_________________________________________________________________\n",
      "dense_9 (Dense)              (None, 250)               125250    \n",
      "_________________________________________________________________\n",
      "dropout_9 (Dropout)          (None, 250)               0         \n",
      "_________________________________________________________________\n",
      "dense_10 (Dense)             (None, 250)               62750     \n",
      "_________________________________________________________________\n",
      "dropout_10 (Dropout)         (None, 250)               0         \n",
      "_________________________________________________________________\n",
      "dense_11 (Dense)             (None, 250)               62750     \n",
      "_________________________________________________________________\n",
      "dropout_11 (Dropout)         (None, 250)               0         \n",
      "_________________________________________________________________\n",
      "dense_12 (Dense)             (None, 100)               25100     \n",
      "_________________________________________________________________\n",
      "dropout_12 (Dropout)         (None, 100)               0         \n",
      "_________________________________________________________________\n",
      "dense_13 (Dense)             (None, 10)                1010      \n",
      "=================================================================\n",
      "Total params: 2,422,860\n",
      "Trainable params: 2,422,860\n",
      "Non-trainable params: 0\n",
      "_________________________________________________________________\n"
     ]
    }
   ],
   "source": [
    "model.summary()"
   ]
  },
  {
   "cell_type": "code",
   "execution_count": 40,
   "metadata": {},
   "outputs": [
    {
     "name": "stdout",
     "output_type": "stream",
     "text": [
      "(48000, 28, 28, 1) (10000, 28, 28, 1) (12000, 28, 28, 1)\n"
     ]
    }
   ],
   "source": [
    "# CNN\n",
    "\n",
    "x_train = x_train.reshape(x_train.shape[0], 28, 28, 1)\n",
    "x_test = x_test.reshape(x_test.shape[0], 28, 28, 1)\n",
    "x_val = x_val.reshape(x_val.shape[0], 28, 28, 1)\n",
    "\n",
    "print(x_train.shape, x_test.shape, x_val.shape)"
   ]
  },
  {
   "cell_type": "code",
   "execution_count": 44,
   "metadata": {},
   "outputs": [
    {
     "name": "stdout",
     "output_type": "stream",
     "text": [
      "Train on 48000 samples, validate on 12000 samples\n",
      "Epoch 1/25\n",
      "48000/48000 [==============================] - 41s 861us/step - loss: 0.8375 - acc: 0.6889 - val_loss: 0.5045 - val_acc: 0.8173\n",
      "Epoch 2/25\n",
      "48000/48000 [==============================] - 41s 855us/step - loss: 0.5110 - acc: 0.8084 - val_loss: 0.4143 - val_acc: 0.8551\n",
      "Epoch 3/25\n",
      "48000/48000 [==============================] - 41s 855us/step - loss: 0.4399 - acc: 0.8394 - val_loss: 0.3691 - val_acc: 0.8665\n",
      "Epoch 4/25\n",
      "48000/48000 [==============================] - 41s 856us/step - loss: 0.3993 - acc: 0.8532 - val_loss: 0.3364 - val_acc: 0.8808\n",
      "Epoch 5/25\n",
      "48000/48000 [==============================] - 41s 850us/step - loss: 0.3685 - acc: 0.8659 - val_loss: 0.3092 - val_acc: 0.8868\n",
      "Epoch 6/25\n",
      "48000/48000 [==============================] - 41s 847us/step - loss: 0.3493 - acc: 0.8717 - val_loss: 0.2914 - val_acc: 0.8952\n",
      "Epoch 7/25\n",
      "48000/48000 [==============================] - 41s 847us/step - loss: 0.3321 - acc: 0.8794 - val_loss: 0.2787 - val_acc: 0.8993\n",
      "Epoch 8/25\n",
      "48000/48000 [==============================] - 44s 918us/step - loss: 0.3170 - acc: 0.8854 - val_loss: 0.2711 - val_acc: 0.9008\n",
      "Epoch 9/25\n",
      "48000/48000 [==============================] - 43s 904us/step - loss: 0.3049 - acc: 0.8884 - val_loss: 0.2655 - val_acc: 0.9022\n",
      "Epoch 10/25\n",
      "48000/48000 [==============================] - 44s 921us/step - loss: 0.2987 - acc: 0.8909 - val_loss: 0.2578 - val_acc: 0.9074\n",
      "Epoch 11/25\n",
      "48000/48000 [==============================] - 45s 928us/step - loss: 0.2920 - acc: 0.8926 - val_loss: 0.2527 - val_acc: 0.9078\n",
      "Epoch 12/25\n",
      "48000/48000 [==============================] - 45s 936us/step - loss: 0.2847 - acc: 0.8959 - val_loss: 0.2437 - val_acc: 0.9118\n",
      "Epoch 13/25\n",
      "48000/48000 [==============================] - 46s 952us/step - loss: 0.2747 - acc: 0.8988 - val_loss: 0.2443 - val_acc: 0.9115\n",
      "Epoch 14/25\n",
      "48000/48000 [==============================] - 45s 938us/step - loss: 0.2714 - acc: 0.8985 - val_loss: 0.2483 - val_acc: 0.9108\n",
      "Epoch 15/25\n",
      "48000/48000 [==============================] - 45s 938us/step - loss: 0.2660 - acc: 0.9031 - val_loss: 0.2419 - val_acc: 0.9099\n",
      "Epoch 16/25\n",
      "48000/48000 [==============================] - 44s 914us/step - loss: 0.2602 - acc: 0.9035 - val_loss: 0.2403 - val_acc: 0.9103\n",
      "Epoch 17/25\n",
      "48000/48000 [==============================] - 45s 931us/step - loss: 0.2554 - acc: 0.9055 - val_loss: 0.2333 - val_acc: 0.9136\n",
      "Epoch 18/25\n",
      "48000/48000 [==============================] - 45s 944us/step - loss: 0.2508 - acc: 0.9063 - val_loss: 0.2342 - val_acc: 0.9134\n",
      "Epoch 19/25\n",
      "48000/48000 [==============================] - 45s 935us/step - loss: 0.2467 - acc: 0.9086 - val_loss: 0.2302 - val_acc: 0.9151\n",
      "Epoch 20/25\n",
      "48000/48000 [==============================] - 45s 935us/step - loss: 0.2435 - acc: 0.9091 - val_loss: 0.2275 - val_acc: 0.9162\n",
      "Epoch 21/25\n",
      "48000/48000 [==============================] - 44s 926us/step - loss: 0.2385 - acc: 0.9114 - val_loss: 0.2256 - val_acc: 0.9154\n",
      "Epoch 22/25\n",
      "48000/48000 [==============================] - 46s 959us/step - loss: 0.2343 - acc: 0.9122 - val_loss: 0.2208 - val_acc: 0.9199\n",
      "Epoch 23/25\n",
      "48000/48000 [==============================] - 45s 945us/step - loss: 0.2326 - acc: 0.9134 - val_loss: 0.2229 - val_acc: 0.9185\n",
      "Epoch 24/25\n",
      "48000/48000 [==============================] - 46s 952us/step - loss: 0.2306 - acc: 0.9144 - val_loss: 0.2201 - val_acc: 0.9192\n",
      "Epoch 25/25\n",
      "48000/48000 [==============================] - 46s 950us/step - loss: 0.2250 - acc: 0.9161 - val_loss: 0.2216 - val_acc: 0.9172\n"
     ]
    },
    {
     "data": {
      "text/plain": [
       "<keras.callbacks.History at 0x1c01e3e7be0>"
      ]
     },
     "execution_count": 44,
     "metadata": {},
     "output_type": "execute_result"
    }
   ],
   "source": [
    "model = Sequential()\n",
    "\n",
    "model.add(Conv2D(32, kernel_size=(3, 3), activation='relu', kernel_initializer='he_normal', input_shape = (28,28,1)))\n",
    "model.add(MaxPooling2D((2, 2)))\n",
    "model.add(Dropout(0.25))\n",
    "\n",
    "model.add(Conv2D(64, (3, 3), activation='relu'))\n",
    "model.add(MaxPooling2D(pool_size=(2, 2)))\n",
    "model.add(Dropout(0.25))\n",
    "\n",
    "model.add(Conv2D(128, (3, 3), activation='relu'))\n",
    "model.add(Dropout(0.4))\n",
    "\n",
    "model.add(Flatten())\n",
    "model.add(Dense(128, activation='relu'))\n",
    "model.add(Dropout(0.3))\n",
    "model.add(Dense(10, activation='softmax'))\n",
    "\n",
    "model.compile(loss=keras.losses.categorical_crossentropy,\n",
    "              optimizer=keras.optimizers.Adam(),\n",
    "              metrics=['accuracy'])\n",
    "\n",
    "model.compile(loss=keras.losses.categorical_crossentropy, optimizer=keras.optimizers.Adam(), metrics=['accuracy'])\n",
    "\n",
    "model.fit(x_train, y_train, epochs = 25, batch_size = 256, validation_data=(x_val, y_val))"
   ]
  },
  {
   "cell_type": "code",
   "execution_count": null,
   "metadata": {},
   "outputs": [],
   "source": []
  }
 ],
 "metadata": {
  "kernelspec": {
   "display_name": "Python 3",
   "language": "python",
   "name": "python3"
  },
  "language_info": {
   "codemirror_mode": {
    "name": "ipython",
    "version": 3
   },
   "file_extension": ".py",
   "mimetype": "text/x-python",
   "name": "python",
   "nbconvert_exporter": "python",
   "pygments_lexer": "ipython3",
   "version": "3.7.4"
  }
 },
 "nbformat": 4,
 "nbformat_minor": 2
}

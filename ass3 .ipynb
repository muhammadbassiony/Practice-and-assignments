{
 "cells": [
  {
   "cell_type": "code",
   "execution_count": 1,
   "metadata": {},
   "outputs": [],
   "source": [
    "import pandas as pd\n",
    "import numpy as np\n",
    "from sklearn.preprocessing import StandardScaler\n",
    "from sklearn.model_selection import train_test_split\n",
    "from sklearn.linear_model import LogisticRegression\n",
    "from sklearn.metrics import confusion_matrix\n",
    "from sklearn import linear_model\n",
    "import seaborn as sns\n",
    "import matplotlib.pyplot as plt\n",
    "from numpy.linalg import inv\n",
    "from statsmodels.regression.linear_model import OLS\n",
    "\n",
    "%matplotlib inline"
   ]
  },
  {
   "cell_type": "code",
   "execution_count": 2,
   "metadata": {},
   "outputs": [],
   "source": [
    "W1 = np.array( [ [0.15,0.2] , [0.25, 0.30] ] )\n",
    "b1 =  np.array( [0.35, 0.35] )\n",
    "W2 = np.array( [ [0.4,0.45] , [0.5,0.55] ] )\n",
    "b2 =  np.array([0.6,0.6])\n",
    "\n",
    "i = np.array( [0.05,0.10] )\n",
    "o = np.array( [0.01,0.99])\n"
   ]
  },
  {
   "cell_type": "code",
   "execution_count": 3,
   "metadata": {},
   "outputs": [],
   "source": [
    "def cost(o, A2):\n",
    "    \n",
    "    m = o.shape[0]\n",
    "    costa = (-1 / m )\n",
    "    costa *= np.sum( (o * np.log(A2)) + ((1 - o) * np.log(1 - A2)) )\n",
    "  \n",
    "    costa = np.squeeze(costa)\n",
    "    \n",
    "    return costa"
   ]
  },
  {
   "cell_type": "code",
   "execution_count": 4,
   "metadata": {},
   "outputs": [],
   "source": [
    "def sigmoid(x):\n",
    "    s = 1/(1+ np.exp(-x) )\n",
    "    return s"
   ]
  },
  {
   "cell_type": "code",
   "execution_count": 5,
   "metadata": {},
   "outputs": [
    {
     "name": "stdout",
     "output_type": "stream",
     "text": [
      "### (2, 2) (2,) (2, 2) (2,)\n",
      "w1 [[0.35691484 0.40691484]\n",
      " [0.45691484 0.50691484]] \n",
      "\n",
      "b1 [3.11800006 3.11800006] \n",
      "\n",
      "w2 [[0.00720327 0.05720327]\n",
      " [0.10720327 0.15720327]] \n",
      "\n",
      "b2 [-0.15722667 -0.15722667]\n"
     ]
    }
   ],
   "source": [
    "def nn(W1,b1,W2,b2, i, o, iter):\n",
    "    \n",
    "    print(\"###\" , W1.shape, b1.shape, W2.shape, b2.shape)\n",
    "    learning_rate = 0.5\n",
    "       \n",
    "    m = o.shape[0]\n",
    "    \n",
    "    for t in range (0, iter):\n",
    "        \n",
    "        #forward propagation\n",
    "        \n",
    "        Z1 = np.dot(W1, i) + b1\n",
    "        #print(\"z1\", Z1.shape, Z1)\n",
    "        \n",
    "        A1 = sigmoid(Z1)\n",
    "        #print(\"A1\",A1.shape, A1)\n",
    "        \n",
    "        Z2 = np.dot(W2, A1) + b2\n",
    "        #print(\"Z2\",Z2.shape, Z2)\n",
    "        \n",
    "        A2 = sigmoid(Z2)\n",
    "        #print(\"A2\", A2.shape, A2)\n",
    "\n",
    "        #calculate cost\n",
    "        costt = cost(o, A2)\n",
    "        #print(costt)\n",
    "\n",
    "        #back propagation\n",
    "\n",
    "        \n",
    "        #print(\"&&&&\")\n",
    "\n",
    "        dZ2 = A2 - o\n",
    "        dW2 = np.dot(dZ2, A1.T) / m\n",
    "        db2 = np.sum(dZ2) / m\n",
    "        dZ1 = np.dot(W2.T, dZ2) * costt\n",
    "        dW1 = np.dot(dZ1, i.T) / m\n",
    "        db1 = np.sum(dZ1) / m\n",
    "\n",
    "        #print(\"&&&&\")\n",
    "\n",
    "        W1 = W1 - learning_rate * dW1\n",
    "        b1 = b1 - learning_rate * db1\n",
    "        W2 = W2 - learning_rate * dW2\n",
    "        b2 = b2 - learning_rate * db2\n",
    "        \n",
    "    print(\"w1\", W1, \"\\n\\nb1\",b1,\"\\n\\nw2\", W2,\"\\n\\nb2\", b2)\n",
    "    \n",
    "nn(W1,b1,W2,b2, i, o, 200)\n",
    "\n",
    "\n"
   ]
  },
  {
   "cell_type": "code",
   "execution_count": null,
   "metadata": {},
   "outputs": [],
   "source": []
  }
 ],
 "metadata": {
  "kernelspec": {
   "display_name": "Python 3",
   "language": "python",
   "name": "python3"
  },
  "language_info": {
   "codemirror_mode": {
    "name": "ipython",
    "version": 3
   },
   "file_extension": ".py",
   "mimetype": "text/x-python",
   "name": "python",
   "nbconvert_exporter": "python",
   "pygments_lexer": "ipython3",
   "version": "3.7.4"
  }
 },
 "nbformat": 4,
 "nbformat_minor": 2
}
